{
 "cells": [
  {
   "cell_type": "markdown",
   "metadata": {},
   "source": [
    "# Question 2 - Build and Apply a perceptron\n",
    "\n",
    "For the same set of images and same features, build a perceptron to classify the\n",
    "images. Start the training with similar weights to both the features, and then train with the\n",
    "40 samples to build the classifier. Apply the classifier on 5 images."
   ]
  },
  {
   "cell_type": "code",
   "execution_count": 51,
   "metadata": {},
   "outputs": [],
   "source": [
    "# Import necessary libraries\n",
    "import numpy as np \n",
    "import pandas as pd\n",
    "from sklearn.metrics import accuracy_score"
   ]
  },
  {
   "cell_type": "markdown",
   "metadata": {},
   "source": [
    "## Build a Perceptron Class"
   ]
  },
  {
   "cell_type": "code",
   "execution_count": 80,
   "metadata": {},
   "outputs": [],
   "source": [
    "class Perceptron():\n",
    "    \n",
    "    # Initialise the weights and the bias\n",
    "    def __init__(self, input_size, epochs=10, learning_rate=1):\n",
    "        self.W = np.zeros(input_size+1)\n",
    "        # add one ot the input shape to account for w0 which is the bias\n",
    "        self.b = 0\n",
    "        \n",
    "        # Hyperparameters\n",
    "        self.epochs = epochs\n",
    "        self.lr = learning_rate    # Fixed Learning Rate\n",
    "    \n",
    "    # Create an activation function which returns 1 for positive outputs and 0 otherwise\n",
    "    def activation(self, x):\n",
    "        return 1 if x >= -0.5 else 0\n",
    "    \n",
    "    # Create a prediction function which will take input features and \n",
    "    def get_pred(self, x):\n",
    "        \n",
    "        # Get the output as Wt.X\n",
    "        z = np.dot(self.W.T, x)\n",
    "        a = self.activation(z)\n",
    "        return a\n",
    "    \n",
    "    # Create a training function which would minimize the error\n",
    "    def fit(self, X, labels):\n",
    "        for e in range(self.epochs):\n",
    "            print(\"Training Epoch: \", e)\n",
    "            for i in range(X.shape[0]):\n",
    "                x = np.insert(X[i], 0, 1)\n",
    "                # insert a one at the beginning of the X vector to pad it \n",
    "                \n",
    "                y = self.get_pred(x)\n",
    "                error = labels[i] - y\n",
    "                self.W = self.W + (self.lr * error * x)\n",
    "\n",
    "    # Create a predict function \n",
    "    def predict(self, X):\n",
    "        preds = []\n",
    "        for i in range(X.shape[0]):\n",
    "            x = np.insert(X[i], 0, 1)\n",
    "            y = self.get_pred(x)\n",
    "            preds.append(y)\n",
    "        \n",
    "        return np.array(preds)\n",
    "                \n",
    "    def get_weights(self):\n",
    "        return self.W   "
   ]
  },
  {
   "cell_type": "markdown",
   "metadata": {},
   "source": [
    "## Training Step"
   ]
  },
  {
   "cell_type": "code",
   "execution_count": 81,
   "metadata": {},
   "outputs": [
    {
     "name": "stdout",
     "output_type": "stream",
     "text": [
      "(190, 2049) (20, 2049)\n"
     ]
    }
   ],
   "source": [
    "# Read the training and testing data\n",
    "train_data = pd.read_csv('../Datasets/final_data.csv', index_col=0)\n",
    "test_data = pd.read_csv('../Datasets/test_data.csv', index_col=0)\n",
    "print(train_data.shape, test_data.shape)"
   ]
  },
  {
   "cell_type": "code",
   "execution_count": 82,
   "metadata": {},
   "outputs": [],
   "source": [
    "# Assign classes as 0s and 1s \n",
    "train_data['class'] = train_data['class'].map({ \"cat\":0, \"dog\":1 })\n",
    "test_data['class'] = test_data['class'].map({ \"cat\":0, \"dog\":1 })"
   ]
  },
  {
   "cell_type": "code",
   "execution_count": 83,
   "metadata": {},
   "outputs": [],
   "source": [
    "# Get the training and testing data \n",
    "X_train = train_data.drop(['class'], axis=1).values\n",
    "X_test = test_data.drop(['class'], axis=1).values\n",
    "\n",
    "y_train = train_data['class'].to_numpy()\n",
    "y_test = test_data['class'].to_numpy()"
   ]
  },
  {
   "cell_type": "code",
   "execution_count": 84,
   "metadata": {},
   "outputs": [
    {
     "name": "stdout",
     "output_type": "stream",
     "text": [
      "Training Epoch:  0\n",
      "Training Epoch:  1\n",
      "Training Epoch:  2\n",
      "Training Epoch:  3\n",
      "Training Epoch:  4\n",
      "Training Epoch:  5\n",
      "Training Epoch:  6\n",
      "Training Epoch:  7\n",
      "Training Epoch:  8\n",
      "Training Epoch:  9\n",
      "[ 1.00000000e+00 -5.90333333e+02 -1.41133333e+03 ... -6.41555556e+03\n",
      "  3.60555556e+03 -2.64044444e+03]\n"
     ]
    }
   ],
   "source": [
    "# Training Phase\n",
    "perceptron = Perceptron(input_size=X_train.shape[1])\n",
    "perceptron.fit(X_train, y_train)\n",
    "\n",
    "# Collect the weights and bias\n",
    "train_weights = perceptron.get_weights()\n",
    "print(train_weights)"
   ]
  },
  {
   "cell_type": "markdown",
   "metadata": {},
   "source": [
    "## Testing Step"
   ]
  },
  {
   "cell_type": "code",
   "execution_count": 85,
   "metadata": {},
   "outputs": [
    {
     "name": "stdout",
     "output_type": "stream",
     "text": [
      "Accuracy of the algorithm: 0.45\n"
     ]
    }
   ],
   "source": [
    "# Get the predictions\n",
    "preds = perceptron.predict(X_test)\n",
    "print(\"Accuracy of the algorithm:\", accuracy_score(y_true=y_test, y_pred=preds))"
   ]
  },
  {
   "cell_type": "code",
   "execution_count": null,
   "metadata": {},
   "outputs": [],
   "source": []
  }
 ],
 "metadata": {
  "kernelspec": {
   "display_name": "Python 3",
   "language": "python",
   "name": "python3"
  },
  "language_info": {
   "codemirror_mode": {
    "name": "ipython",
    "version": 3
   },
   "file_extension": ".py",
   "mimetype": "text/x-python",
   "name": "python",
   "nbconvert_exporter": "python",
   "pygments_lexer": "ipython3",
   "version": "3.6.4"
  },
  "toc": {
   "base_numbering": 1,
   "nav_menu": {},
   "number_sections": true,
   "sideBar": true,
   "skip_h1_title": false,
   "title_cell": "Table of Contents",
   "title_sidebar": "Contents",
   "toc_cell": false,
   "toc_position": {},
   "toc_section_display": true,
   "toc_window_display": false
  }
 },
 "nbformat": 4,
 "nbformat_minor": 2
}
